{
  "cells": [
    {
      "cell_type": "markdown",
      "metadata": {
        "id": "view-in-github",
        "colab_type": "text"
      },
      "source": [
        "<a href=\"https://colab.research.google.com/github/mrgnschndr/Project-Contrails/blob/main/example_code_for_loading_opencontrails_tfrecords.ipynb\" target=\"_parent\"><img src=\"https://colab.research.google.com/assets/colab-badge.svg\" alt=\"Open In Colab\"/></a>"
      ]
    },
    {
      "cell_type": "code",
      "execution_count": null,
      "metadata": {
        "id": "qZF3Ypk7dTwq"
      },
      "outputs": [],
      "source": [
        "# Copyright 2023 Google LLC.\n",
        "# SPDX-License-Identifier: Apache-2.0\n",
        "\n",
        "import sys\n",
        "import numpy as np\n",
        "import tensorflow as tf\n",
        "import matplotlib.pyplot as plt\n",
        "\n",
        "if 'google.colab' in sys.modules:\n",
        "  from google.colab import auth\n",
        "  auth.authenticate_user()"
      ]
    },
    {
      "cell_type": "code",
      "source": [
        "def parse_example(serialized_example: bytes) -> dict[str, tf.Tensor]:\n",
        "  # GOES-16 ABI band 8 - 16\n",
        "  goes_bands = ('upper_vapor', 'mid_vapor', 'low_vapor', 'cloud_top', 'ozone',\n",
        "                'data_10um', 'data_11um', 'data_12um', 'co2')\n",
        "  feature_spec = {band: tf.io.FixedLenFeature([], tf.string) for band in goes_bands}\n",
        "  feature_spec.update({\n",
        "      'brightness_temperature_difference':  tf.io.FixedLenFeature([], tf.string),  # data_11um - data_12um\n",
        "      'human_pixel_masks': tf.io.FixedLenFeature([], tf.string),\n",
        "      'n_times_before': tf.io.FixedLenFeature([], tf.int64),\n",
        "      'n_times_after': tf.io.FixedLenFeature([], tf.int64),\n",
        "      # Projection params\n",
        "      'projection_wkt': tf.io.FixedLenFeature([], tf.string),\n",
        "      'col_min': tf.io.FixedLenFeature([], tf.float32),\n",
        "      'row_min': tf.io.FixedLenFeature([], tf.float32),\n",
        "      'col_size': tf.io.FixedLenFeature([], tf.float32),\n",
        "      'row_size': tf.io.FixedLenFeature([], tf.float32),\n",
        "      # Timestamp\n",
        "      'timestamp': tf.io.FixedLenFeature([], tf.int64),  # approximate timestamp\n",
        "      'satellite_scan_starts': tf.io.VarLenFeature(tf.int64),  # timestamp from original file\n",
        "  })\n",
        "  features = tf.io.parse_single_example(serialized_example, feature_spec)\n",
        "  for key in [*goes_bands, 'brightness_temperature_difference']:\n",
        "    features[key] = tf.io.parse_tensor(features[key], tf.double)\n",
        "  features['human_pixel_masks'] = tf.io.parse_tensor(features['human_pixel_masks'], tf.int32)\n",
        "  return features"
      ],
      "metadata": {
        "id": "y9RJIjajUxcC"
      },
      "execution_count": null,
      "outputs": []
    },
    {
      "cell_type": "markdown",
      "source": [
        "## False color image\n",
        "In order to view contrails in GOES, we use the \"ash\" color scheme. This color scheme was originally developed for viewing volcanic ash in the atmosphere but is also useful for viewing thin cirrus, including contrails. In this color scheme, contrails appear in the image as dark blue.\n",
        "\n",
        "Note that we use a modified version of the ash color scheme here, developed by Kulik et al., which uses slightly different bands and bounds tuned for contrails.\n",
        "\n",
        "References:\n",
        "\n",
        "Original Ash RGB description: https://rammb.cira.colostate.edu/training/visit/quick_guides/GOES_Ash_RGB.pdf\n",
        "Modified Ash Color Scheme (Kulik et al., page 22): https://dspace.mit.edu/handle/1721.1/124179?show=full\n"
      ],
      "metadata": {
        "id": "QpVZmmNIG3Nk"
      }
    },
    {
      "cell_type": "code",
      "source": [
        "_T11_BOUNDS = (243, 303)\n",
        "_CLOUD_TOP_TDIFF_BOUNDS = (-4, 5)\n",
        "_TDIFF_BOUNDS = (-4, 2)\n",
        "\n",
        "def normalize_range(data, bounds):\n",
        "  \"\"\"Maps data to the range [0, 1].\"\"\"\n",
        "  return (data - bounds[0]) / (bounds[1] - bounds[0])\n",
        "\n",
        "def false_color_image(brightness_temperatures):\n",
        "  \"\"\"Generates ash false color image from GOES brightness temperatures.\"\"\"\n",
        "  r = normalize_range(brightness_temperatures['data_12um'] - brightness_temperatures['data_11um'], _TDIFF_BOUNDS)\n",
        "  g = normalize_range(brightness_temperatures['data_11um'] - brightness_temperatures['cloud_top'], _CLOUD_TOP_TDIFF_BOUNDS)\n",
        "  b = normalize_range(brightness_temperatures['data_11um'], _T11_BOUNDS)\n",
        "  return np.clip(np.stack([r, g, b], axis=-1), 0, 1)\n"
      ],
      "metadata": {
        "id": "WGzd_H80GhP6"
      },
      "execution_count": null,
      "outputs": []
    },
    {
      "cell_type": "code",
      "execution_count": null,
      "metadata": {
        "id": "eSpmD22RdVF6"
      },
      "outputs": [],
      "source": [
        "dataset = tf.data.TFRecordDataset(tf.io.gfile.glob('gs://goes_contrails_dataset/20230419/tfrecords/train.tfrecords-00000-of-00100'))\n",
        "dataset = dataset.map(parse_example)"
      ]
    },
    {
      "cell_type": "code",
      "execution_count": null,
      "metadata": {
        "id": "reSh5o_5dXYc"
      },
      "outputs": [],
      "source": [
        "count = 0\n",
        "for features in dataset.as_numpy_iterator():\n",
        "  # Skip examples without contrails for visualization\n",
        "  if features['human_pixel_masks'].sum() == 0:\n",
        "    continue\n",
        "  n_times_before = features['n_times_before']\n",
        "  false_color_images = false_color_image(features)\n",
        "  plt.figure(figsize=(12, 6))\n",
        "  plt.subplot(1, 2, 1)\n",
        "  plt.imshow(false_color_images[..., n_times_before, :])\n",
        "  plt.subplot(1, 2, 2)\n",
        "  plt.imshow(features['human_pixel_masks'].squeeze(-1))\n",
        "  plt.show()\n",
        "  count += 1\n",
        "  if count >= 10:\n",
        "    break"
      ]
    }
  ],
  "metadata": {
    "colab": {
      "provenance": [],
      "include_colab_link": true
    },
    "kernelspec": {
      "display_name": "Python 3",
      "name": "python3"
    },
    "language_info": {
      "name": "python"
    }
  },
  "nbformat": 4,
  "nbformat_minor": 0
}